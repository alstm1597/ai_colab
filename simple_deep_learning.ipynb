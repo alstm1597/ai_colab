{
  "nbformat": 4,
  "nbformat_minor": 0,
  "metadata": {
    "colab": {
      "name": "simple_deep_learning.ipynb",
      "provenance": [],
      "collapsed_sections": [],
      "toc_visible": true,
      "include_colab_link": true
    },
    "kernelspec": {
      "name": "python3",
      "display_name": "Python 3"
    }
  },
  "cells": [
    {
      "cell_type": "markdown",
      "metadata": {
        "id": "view-in-github",
        "colab_type": "text"
      },
      "source": [
        "<a href=\"https://colab.research.google.com/github/alstm1597/ai_colab/blob/main/simple_deep_learning.ipynb\" target=\"_parent\"><img src=\"https://colab.research.google.com/assets/colab-badge.svg\" alt=\"Open In Colab\"/></a>"
      ]
    },
    {
      "cell_type": "markdown",
      "metadata": {
        "id": "hhIoNQe4a84i"
      },
      "source": [
        "# シンプルなディープラーニング\n",
        "Kerasを使って、最小限のディープラーニングを実装します。"
      ]
    },
    {
      "cell_type": "markdown",
      "metadata": {
        "id": "B-ECLOtv89nP"
      },
      "source": [
        "## データの読み込み\n",
        "Irisデータセットを読み込みます。  \n",
        "https://scikit-learn.org/stable/auto_examples/datasets/plot_iris_dataset.html"
      ]
    },
    {
      "cell_type": "code",
      "metadata": {
        "id": "CyzqJCBE3if_",
        "colab": {
          "base_uri": "https://localhost:8080/"
        },
        "outputId": "2a3fc84c-9f81-4210-b4e3-07f92440b8e6"
      },
      "source": [
        "import numpy as np\n",
        "from sklearn import datasets\n",
        "\n",
        "iris = datasets.load_iris()\n",
        "print(iris.data[:10])  # データを10個表示\n",
        "print(iris.target[:10])  # ラベルを10個表示\n",
        "print(iris.data.shape)  # データの形状を表示"
      ],
      "execution_count": null,
      "outputs": [
        {
          "output_type": "stream",
          "text": [
            "[[5.1 3.5 1.4 0.2]\n",
            " [4.9 3.  1.4 0.2]\n",
            " [4.7 3.2 1.3 0.2]\n",
            " [4.6 3.1 1.5 0.2]\n",
            " [5.  3.6 1.4 0.2]\n",
            " [5.4 3.9 1.7 0.4]\n",
            " [4.6 3.4 1.4 0.3]\n",
            " [5.  3.4 1.5 0.2]\n",
            " [4.4 2.9 1.4 0.2]\n",
            " [4.9 3.1 1.5 0.1]]\n",
            "[0 0 0 0 0 0 0 0 0 0]\n",
            "(150, 4)\n"
          ],
          "name": "stdout"
        }
      ]
    },
    {
      "cell_type": "markdown",
      "metadata": {
        "id": "NZb0g94VxhvQ"
      },
      "source": [
        "## データの前処理\n",
        "データの前処理として、標準化を行います。  \n",
        "標準化は、平均値が0、標準偏差が1になるように変換する処理です。  \n",
        "https://scikit-learn.org/stable/modules/preprocessing.html  \n",
        "  \n",
        "ラベルをone-hot表現に変換します。  \n",
        "one-hot表現は、一箇所だけ1で残りは０の配列です。  \n",
        "https://keras.io/ja/utils/np_utils/"
      ]
    },
    {
      "cell_type": "code",
      "metadata": {
        "id": "IvCh14ckLYNV",
        "colab": {
          "base_uri": "https://localhost:8080/"
        },
        "outputId": "2680fbc7-941a-45ba-c8c2-68202c5cdd9f"
      },
      "source": [
        "from sklearn import preprocessing\n",
        "from keras.utils import np_utils\n",
        "\n",
        "scaler = preprocessing.StandardScaler()  # 標準化のためのスケーラー\n",
        "scaler.fit(iris.data)  # パラメータの計算\n",
        "i = scaler.transform(iris.data)  # データの変換\n",
        "print(iris.data[:10])\n",
        "print(i[:10])\n",
        "print()\n",
        "t = np_utils.to_categorical(iris.target)  # ラベルをone-hot表現に変換\n",
        "print(iris.target)\n",
        "print(t[:10])"
      ],
      "execution_count": null,
      "outputs": [
        {
          "output_type": "stream",
          "text": [
            "[[5.1 3.5 1.4 0.2]\n",
            " [4.9 3.  1.4 0.2]\n",
            " [4.7 3.2 1.3 0.2]\n",
            " [4.6 3.1 1.5 0.2]\n",
            " [5.  3.6 1.4 0.2]\n",
            " [5.4 3.9 1.7 0.4]\n",
            " [4.6 3.4 1.4 0.3]\n",
            " [5.  3.4 1.5 0.2]\n",
            " [4.4 2.9 1.4 0.2]\n",
            " [4.9 3.1 1.5 0.1]]\n",
            "[[-0.90068117  1.01900435 -1.34022653 -1.3154443 ]\n",
            " [-1.14301691 -0.13197948 -1.34022653 -1.3154443 ]\n",
            " [-1.38535265  0.32841405 -1.39706395 -1.3154443 ]\n",
            " [-1.50652052  0.09821729 -1.2833891  -1.3154443 ]\n",
            " [-1.02184904  1.24920112 -1.34022653 -1.3154443 ]\n",
            " [-0.53717756  1.93979142 -1.16971425 -1.05217993]\n",
            " [-1.50652052  0.78880759 -1.34022653 -1.18381211]\n",
            " [-1.02184904  0.78880759 -1.2833891  -1.3154443 ]\n",
            " [-1.74885626 -0.36217625 -1.34022653 -1.3154443 ]\n",
            " [-1.14301691  0.09821729 -1.2833891  -1.44707648]]\n",
            "\n",
            "[0 0 0 0 0 0 0 0 0 0 0 0 0 0 0 0 0 0 0 0 0 0 0 0 0 0 0 0 0 0 0 0 0 0 0 0 0\n",
            " 0 0 0 0 0 0 0 0 0 0 0 0 0 1 1 1 1 1 1 1 1 1 1 1 1 1 1 1 1 1 1 1 1 1 1 1 1\n",
            " 1 1 1 1 1 1 1 1 1 1 1 1 1 1 1 1 1 1 1 1 1 1 1 1 1 1 2 2 2 2 2 2 2 2 2 2 2\n",
            " 2 2 2 2 2 2 2 2 2 2 2 2 2 2 2 2 2 2 2 2 2 2 2 2 2 2 2 2 2 2 2 2 2 2 2 2 2\n",
            " 2 2]\n",
            "[[1. 0. 0.]\n",
            " [1. 0. 0.]\n",
            " [1. 0. 0.]\n",
            " [1. 0. 0.]\n",
            " [1. 0. 0.]\n",
            " [1. 0. 0.]\n",
            " [1. 0. 0.]\n",
            " [1. 0. 0.]\n",
            " [1. 0. 0.]\n",
            " [1. 0. 0.]]\n"
          ],
          "name": "stdout"
        }
      ]
    },
    {
      "cell_type": "markdown",
      "metadata": {
        "id": "VqcsbayqB7N_"
      },
      "source": [
        "## 訓練データとテストデータ\n",
        "データを訓練用のデータとテスト用のデータに分割します。  \n",
        "https://scikit-learn.org/stable/modules/generated/sklearn.model_selection.train_test_split.html"
      ]
    },
    {
      "cell_type": "code",
      "metadata": {
        "id": "Bcrf7UpKAuFM",
        "colab": {
          "base_uri": "https://localhost:8080/"
        },
        "outputId": "4cc46042-688d-4a4b-94d7-b331377035b2"
      },
      "source": [
        "from sklearn.model_selection import train_test_split\n",
        "\n",
        "# x_train: 訓練用の入力データ\n",
        "# x_test: テスト用の入力データ\n",
        "# t_train: 訓練用の正解データ\n",
        "# t_test: テスト用の正解データ\n",
        "# train_size=0.75: 75%が訓練用、25%がテスト用\n",
        "i_train, i_test, t_train, t_test = train_test_split(i, t, train_size=0.75)\n",
        "print(i_train.shape)\n",
        "print(t_train.shape)\n",
        "print()\n",
        "print(i_train[:10])\n",
        "print(t_train[:10])\n",
        "print()\n",
        "print(i_test.shape)\n",
        "print(t_test.shape)\n",
        "print()\n",
        "print(i_test[:10])\n",
        "print(t_test[:10])"
      ],
      "execution_count": null,
      "outputs": [
        {
          "output_type": "stream",
          "text": [
            "(112, 4)\n",
            "(112, 3)\n",
            "\n",
            "[[ 1.89829664e-01 -8.22569778e-01  7.62758269e-01  5.27406285e-01]\n",
            " [-5.37177559e-01  7.88807586e-01 -1.16971425e+00 -1.31544430e+00]\n",
            " [ 6.74501145e-01 -8.22569778e-01  8.76433123e-01  9.22302838e-01]\n",
            " [-1.73673948e-01 -1.31979479e-01  2.51221427e-01  8.77547895e-04]\n",
            " [ 3.10997534e-01 -5.92373012e-01  5.35408562e-01  8.77547895e-04]\n",
            " [ 1.03800476e+00  5.58610819e-01  1.10378283e+00  1.18556721e+00]\n",
            " [-5.25060772e-02 -5.92373012e-01  7.62758269e-01  1.58046376e+00]\n",
            " [-9.00681170e-01  1.70959465e+00 -1.28338910e+00 -1.18381211e+00]\n",
            " [ 1.15917263e+00 -1.31979479e-01  9.90107977e-01  1.18556721e+00]\n",
            " [ 5.53333275e-01 -1.74335684e+00  3.64896281e-01  1.32509732e-01]]\n",
            "[[0. 1. 0.]\n",
            " [1. 0. 0.]\n",
            " [0. 0. 1.]\n",
            " [0. 1. 0.]\n",
            " [0. 1. 0.]\n",
            " [0. 0. 1.]\n",
            " [0. 0. 1.]\n",
            " [1. 0. 0.]\n",
            " [0. 0. 1.]\n",
            " [0. 1. 0.]]\n",
            "\n",
            "(38, 4)\n",
            "(38, 3)\n",
            "\n",
            "[[-1.38535265  0.32841405 -1.22655167 -1.3154443 ]\n",
            " [ 1.03800476 -0.13197948  0.8195957   1.44883158]\n",
            " [-0.53717756  1.47939788 -1.2833891  -1.3154443 ]\n",
            " [-0.05250608  2.16998818 -1.45390138 -1.3154443 ]\n",
            " [-1.14301691 -0.13197948 -1.34022653 -1.3154443 ]\n",
            " [-0.17367395 -0.59237301  0.194384    0.13250973]\n",
            " [-0.90068117  1.70959465 -1.22655167 -1.3154443 ]\n",
            " [-0.41600969 -1.28296331  0.13754657  0.13250973]\n",
            " [-1.02184904  0.32841405 -1.45390138 -1.3154443 ]\n",
            " [-1.26418478  0.09821729 -1.22655167 -1.3154443 ]]\n",
            "[[1. 0. 0.]\n",
            " [0. 0. 1.]\n",
            " [1. 0. 0.]\n",
            " [1. 0. 0.]\n",
            " [1. 0. 0.]\n",
            " [0. 1. 0.]\n",
            " [1. 0. 0.]\n",
            " [0. 1. 0.]\n",
            " [1. 0. 0.]\n",
            " [1. 0. 0.]]\n"
          ],
          "name": "stdout"
        }
      ]
    },
    {
      "cell_type": "markdown",
      "metadata": {
        "id": "seSnEh1h81_O"
      },
      "source": [
        "## モデルの構築\n",
        "4層からなる、シンプルなディープラーニングのモデルを構築します。  \n",
        "**Sequentilal**: 単純に層を積み重ねるモデル  \n",
        "https://keras.io/ja/models/sequential/\n",
        "\n",
        "**Dense**: 全結合層  \n",
        "https://keras.io/ja/layers/core/#dense  \n",
        "\n",
        "**Activation**: 活性化関数  \n",
        "https://keras.io/ja/layers/core/#activation  "
      ]
    },
    {
      "cell_type": "code",
      "metadata": {
        "id": "h2D07ONQ82Sf",
        "colab": {
          "base_uri": "https://localhost:8080/"
        },
        "outputId": "2e287833-da6f-4489-d80a-a1dfef418c0d"
      },
      "source": [
        "from keras.models import Sequential\n",
        "from keras.layers import Dense, Activation\n",
        "\n",
        "model = Sequential()\n",
        "model.add(Dense(32, input_dim=4)) # 4つの特徴が入力なので、入力層のニューロン数は4、中間層のニューロン数は32\n",
        "model.add(Activation('relu')) # 活性化関数（ReLU）を追加\n",
        "model.add(Dense(32)) # ニューロン数32の全結合層を追加\n",
        "model.add(Activation('relu')) # 活性化関数（ReLU）を追加\n",
        "model.add(Dense(3)) # 3つに分類するので、出力層のニューロン数は3\n",
        "model.add(Activation('softmax')) # 3つ以上の分類にはソフトマックス関数を使用\n",
        "model.compile(optimizer='sgd',loss='categorical_crossentropy',metrics=['accuracy']) # モデルのコンパイル\n",
        "\n",
        "print(model.summary())"
      ],
      "execution_count": 45,
      "outputs": [
        {
          "output_type": "stream",
          "text": [
            "Model: \"sequential_4\"\n",
            "_________________________________________________________________\n",
            "Layer (type)                 Output Shape              Param #   \n",
            "=================================================================\n",
            "dense_12 (Dense)             (None, 32)                160       \n",
            "_________________________________________________________________\n",
            "activation_12 (Activation)   (None, 32)                0         \n",
            "_________________________________________________________________\n",
            "dense_13 (Dense)             (None, 32)                1056      \n",
            "_________________________________________________________________\n",
            "activation_13 (Activation)   (None, 32)                0         \n",
            "_________________________________________________________________\n",
            "dense_14 (Dense)             (None, 3)                 99        \n",
            "_________________________________________________________________\n",
            "activation_14 (Activation)   (None, 3)                 0         \n",
            "=================================================================\n",
            "Total params: 1,315\n",
            "Trainable params: 1,315\n",
            "Non-trainable params: 0\n",
            "_________________________________________________________________\n",
            "None\n"
          ],
          "name": "stdout"
        }
      ]
    },
    {
      "cell_type": "markdown",
      "metadata": {
        "id": "fe0ayRSi_I9t"
      },
      "source": [
        "## 学習\n",
        "訓練用の入力データと正解データを使って、モデルを訓練します。  \n",
        "**fit**: モデルを訓練する  \n",
        "https://keras.io/ja/models/sequential/#fit  "
      ]
    },
    {
      "cell_type": "code",
      "metadata": {
        "id": "9GFCnKqR_Qpj",
        "colab": {
          "base_uri": "https://localhost:8080/"
        },
        "outputId": "d958e5ff-3327-4897-dfa7-d25b3ec3bd7e"
      },
      "source": [
        "history = model.fit(i_train, t_train, epochs=50, batch_size=8)"
      ],
      "execution_count": 49,
      "outputs": [
        {
          "output_type": "stream",
          "text": [
            "Epoch 1/50\n",
            "14/14 [==============================] - 0s 2ms/step - loss: 0.4192 - accuracy: 0.8393\n",
            "Epoch 2/50\n",
            "14/14 [==============================] - 0s 1ms/step - loss: 0.4120 - accuracy: 0.8304\n",
            "Epoch 3/50\n",
            "14/14 [==============================] - 0s 1ms/step - loss: 0.4055 - accuracy: 0.8482\n",
            "Epoch 4/50\n",
            "14/14 [==============================] - 0s 929us/step - loss: 0.3991 - accuracy: 0.8571\n",
            "Epoch 5/50\n",
            "14/14 [==============================] - 0s 953us/step - loss: 0.3922 - accuracy: 0.8393\n",
            "Epoch 6/50\n",
            "14/14 [==============================] - 0s 1ms/step - loss: 0.3859 - accuracy: 0.8571\n",
            "Epoch 7/50\n",
            "14/14 [==============================] - 0s 1ms/step - loss: 0.3797 - accuracy: 0.8482\n",
            "Epoch 8/50\n",
            "14/14 [==============================] - 0s 1ms/step - loss: 0.3732 - accuracy: 0.8571\n",
            "Epoch 9/50\n",
            "14/14 [==============================] - 0s 1ms/step - loss: 0.3678 - accuracy: 0.8571\n",
            "Epoch 10/50\n",
            "14/14 [==============================] - 0s 1ms/step - loss: 0.3614 - accuracy: 0.8571\n",
            "Epoch 11/50\n",
            "14/14 [==============================] - 0s 1ms/step - loss: 0.3553 - accuracy: 0.8571\n",
            "Epoch 12/50\n",
            "14/14 [==============================] - 0s 2ms/step - loss: 0.3495 - accuracy: 0.8661\n",
            "Epoch 13/50\n",
            "14/14 [==============================] - 0s 2ms/step - loss: 0.3443 - accuracy: 0.8750\n",
            "Epoch 14/50\n",
            "14/14 [==============================] - 0s 1ms/step - loss: 0.3387 - accuracy: 0.8750\n",
            "Epoch 15/50\n",
            "14/14 [==============================] - 0s 1ms/step - loss: 0.3335 - accuracy: 0.8750\n",
            "Epoch 16/50\n",
            "14/14 [==============================] - 0s 2ms/step - loss: 0.3278 - accuracy: 0.8750\n",
            "Epoch 17/50\n",
            "14/14 [==============================] - 0s 2ms/step - loss: 0.3246 - accuracy: 0.8661\n",
            "Epoch 18/50\n",
            "14/14 [==============================] - 0s 1ms/step - loss: 0.3180 - accuracy: 0.8839\n",
            "Epoch 19/50\n",
            "14/14 [==============================] - 0s 2ms/step - loss: 0.3133 - accuracy: 0.8839\n",
            "Epoch 20/50\n",
            "14/14 [==============================] - 0s 1ms/step - loss: 0.3077 - accuracy: 0.9018\n",
            "Epoch 21/50\n",
            "14/14 [==============================] - 0s 1ms/step - loss: 0.3037 - accuracy: 0.8929\n",
            "Epoch 22/50\n",
            "14/14 [==============================] - 0s 1ms/step - loss: 0.2988 - accuracy: 0.8839\n",
            "Epoch 23/50\n",
            "14/14 [==============================] - 0s 1ms/step - loss: 0.2930 - accuracy: 0.9107\n",
            "Epoch 24/50\n",
            "14/14 [==============================] - 0s 2ms/step - loss: 0.2890 - accuracy: 0.9107\n",
            "Epoch 25/50\n",
            "14/14 [==============================] - 0s 1ms/step - loss: 0.2848 - accuracy: 0.8929\n",
            "Epoch 26/50\n",
            "14/14 [==============================] - 0s 935us/step - loss: 0.2806 - accuracy: 0.9018\n",
            "Epoch 27/50\n",
            "14/14 [==============================] - 0s 1ms/step - loss: 0.2751 - accuracy: 0.9018\n",
            "Epoch 28/50\n",
            "14/14 [==============================] - 0s 1ms/step - loss: 0.2706 - accuracy: 0.9107\n",
            "Epoch 29/50\n",
            "14/14 [==============================] - 0s 1ms/step - loss: 0.2662 - accuracy: 0.9196\n",
            "Epoch 30/50\n",
            "14/14 [==============================] - 0s 1ms/step - loss: 0.2618 - accuracy: 0.9196\n",
            "Epoch 31/50\n",
            "14/14 [==============================] - 0s 2ms/step - loss: 0.2576 - accuracy: 0.9286\n",
            "Epoch 32/50\n",
            "14/14 [==============================] - 0s 1ms/step - loss: 0.2529 - accuracy: 0.9375\n",
            "Epoch 33/50\n",
            "14/14 [==============================] - 0s 1ms/step - loss: 0.2491 - accuracy: 0.9375\n",
            "Epoch 34/50\n",
            "14/14 [==============================] - 0s 2ms/step - loss: 0.2443 - accuracy: 0.9286\n",
            "Epoch 35/50\n",
            "14/14 [==============================] - 0s 2ms/step - loss: 0.2404 - accuracy: 0.9375\n",
            "Epoch 36/50\n",
            "14/14 [==============================] - 0s 1ms/step - loss: 0.2368 - accuracy: 0.9464\n",
            "Epoch 37/50\n",
            "14/14 [==============================] - 0s 2ms/step - loss: 0.2318 - accuracy: 0.9375\n",
            "Epoch 38/50\n",
            "14/14 [==============================] - 0s 1ms/step - loss: 0.2285 - accuracy: 0.9464\n",
            "Epoch 39/50\n",
            "14/14 [==============================] - 0s 2ms/step - loss: 0.2242 - accuracy: 0.9464\n",
            "Epoch 40/50\n",
            "14/14 [==============================] - 0s 1ms/step - loss: 0.2208 - accuracy: 0.9375\n",
            "Epoch 41/50\n",
            "14/14 [==============================] - 0s 1ms/step - loss: 0.2167 - accuracy: 0.9464\n",
            "Epoch 42/50\n",
            "14/14 [==============================] - 0s 2ms/step - loss: 0.2136 - accuracy: 0.9375\n",
            "Epoch 43/50\n",
            "14/14 [==============================] - 0s 1ms/step - loss: 0.2088 - accuracy: 0.9464\n",
            "Epoch 44/50\n",
            "14/14 [==============================] - 0s 1ms/step - loss: 0.2053 - accuracy: 0.9464\n",
            "Epoch 45/50\n",
            "14/14 [==============================] - 0s 2ms/step - loss: 0.2024 - accuracy: 0.9464\n",
            "Epoch 46/50\n",
            "14/14 [==============================] - 0s 1ms/step - loss: 0.1985 - accuracy: 0.9554\n",
            "Epoch 47/50\n",
            "14/14 [==============================] - 0s 2ms/step - loss: 0.1952 - accuracy: 0.9464\n",
            "Epoch 48/50\n",
            "14/14 [==============================] - 0s 1ms/step - loss: 0.1931 - accuracy: 0.9464\n",
            "Epoch 49/50\n",
            "14/14 [==============================] - 0s 2ms/step - loss: 0.1895 - accuracy: 0.9464\n",
            "Epoch 50/50\n",
            "14/14 [==============================] - 0s 1ms/step - loss: 0.1866 - accuracy: 0.9554\n"
          ],
          "name": "stdout"
        }
      ]
    },
    {
      "cell_type": "markdown",
      "metadata": {
        "id": "A29cxq1qGYq2"
      },
      "source": [
        "## 学習の推移\n",
        "Historyには学習の経過が記録されています。  \n",
        "これを使って、学習の推移を表示します。"
      ]
    },
    {
      "cell_type": "code",
      "metadata": {
        "id": "bL97UMnRGY9V",
        "colab": {
          "base_uri": "https://localhost:8080/",
          "height": 336
        },
        "outputId": "261c0209-1f9d-4f20-d9ea-b4c5426a8a6e"
      },
      "source": [
        "import matplotlib.pyplot as plt\n",
        "\n",
        "print(hist_loss)\n",
        "print(hist_acc)\n",
        "print()\n",
        "hist_loss = history.history['loss']  # 訓練用データの誤差\n",
        "hist_acc = history.history['accuracy']  # 検証用データの誤差\n",
        "\n",
        "plt.plot(np.arange(len(hist_loss)), hist_loss, label='loss')\n",
        "plt.plot(np.arange(len(hist_acc)), hist_acc, label='accuracy')\n",
        "plt.legend()\n",
        "plt.show()"
      ],
      "execution_count": 51,
      "outputs": [
        {
          "output_type": "stream",
          "text": [
            "[0.41924354434013367, 0.411998987197876, 0.4054975211620331, 0.3991079330444336, 0.3921574652194977, 0.3859057128429413, 0.37967994809150696, 0.3732369840145111, 0.3677895665168762, 0.3614301085472107, 0.3552631735801697, 0.3495314419269562, 0.34430524706840515, 0.3386688530445099, 0.3334679901599884, 0.3278167247772217, 0.3246426582336426, 0.31803324818611145, 0.31326165795326233, 0.3076951801776886, 0.30369704961776733, 0.2988497316837311, 0.2929702699184418, 0.2890462577342987, 0.2847978472709656, 0.2806414067745209, 0.2751409411430359, 0.2706061899662018, 0.2661589980125427, 0.2617970407009125, 0.257592111825943, 0.25285086035728455, 0.24911534786224365, 0.2442573457956314, 0.24037328362464905, 0.23680664598941803, 0.23177313804626465, 0.22851422429084778, 0.22420145571231842, 0.220780149102211, 0.21668823063373566, 0.21358227729797363, 0.20879220962524414, 0.20533894002437592, 0.20242735743522644, 0.19849851727485657, 0.19522623717784882, 0.19310793280601501, 0.18947379291057587, 0.18655061721801758]\n",
            "[0.8392857313156128, 0.8303571343421936, 0.8482142686843872, 0.8571428656578064, 0.8392857313156128, 0.8571428656578064, 0.8482142686843872, 0.8571428656578064, 0.8571428656578064, 0.8571428656578064, 0.8571428656578064, 0.8660714030265808, 0.875, 0.875, 0.875, 0.875, 0.8660714030265808, 0.8839285969734192, 0.8839285969734192, 0.9017857313156128, 0.8928571343421936, 0.8839285969734192, 0.9107142686843872, 0.9107142686843872, 0.8928571343421936, 0.9017857313156128, 0.9017857313156128, 0.9107142686843872, 0.9196428656578064, 0.9196428656578064, 0.9285714030265808, 0.9375, 0.9375, 0.9285714030265808, 0.9375, 0.9464285969734192, 0.9375, 0.9464285969734192, 0.9464285969734192, 0.9375, 0.9464285969734192, 0.9375, 0.9464285969734192, 0.9464285969734192, 0.9464285969734192, 0.9553571343421936, 0.9464285969734192, 0.9464285969734192, 0.9464285969734192, 0.9553571343421936]\n",
            "\n"
          ],
          "name": "stdout"
        },
        {
          "output_type": "display_data",
          "data": {
            "image/png": "[encoded data removed]",
            "text/plain": [
              "<Figure size 432x288 with 1 Axes>"
            ]
          },
          "metadata": {
            "tags": [],
            "needs_background": "light"
          }
        }
      ]
    },
    {
      "cell_type": "markdown",
      "metadata": {
        "id": "0bKt6ksiBewH"
      },
      "source": [
        "## 評価\n",
        "モデルの評価を行います。  \n",
        "**evaluate**: 入力、正解データから誤差などを計算します。  \n",
        "https://keras.io/ja/models/sequential/#evaluate"
      ]
    },
    {
      "cell_type": "code",
      "metadata": {
        "id": "jTsGsQoQCdhe",
        "colab": {
          "base_uri": "https://localhost:8080/"
        },
        "outputId": "46b290d9-5d05-46be-9012-eccaac18d689"
      },
      "source": [
        "loss, accuracy = model.evaluate(i_test, t_test)\n",
        "print(loss, accuracy)"
      ],
      "execution_count": 52,
      "outputs": [
        {
          "output_type": "stream",
          "text": [
            "2/2 [==============================] - 0s 7ms/step - loss: 0.1096 - accuracy: 0.9737\n",
            "0.10957109183073044 0.9736841917037964\n"
          ],
          "name": "stdout"
        }
      ]
    },
    {
      "cell_type": "markdown",
      "metadata": {
        "id": "5ewSyftmChON"
      },
      "source": [
        "## 予測\n",
        "学習済みのモデルを使って予測を行います。  \n",
        "**predict**: モデルを使って入力を出力に変換します。  \n",
        "https://keras.io/ja/models/sequential/#predict"
      ]
    },
    {
      "cell_type": "code",
      "metadata": {
        "id": "nIURso4FDPKt",
        "colab": {
          "base_uri": "https://localhost:8080/"
        },
        "outputId": "b558795d-cd63-4fa5-8968-26bc8edc0374"
      },
      "source": [
        "model.predict(i_test)"
      ],
      "execution_count": 55,
      "outputs": [
        {
          "output_type": "execute_result",
          "data": {
            "text/plain": [
              "array([[9.87495899e-01, 1.23493094e-02, 1.54771362e-04],\n",
              "       [9.30930255e-05, 3.65580432e-02, 9.63348866e-01],\n",
              "       [9.90805805e-01, 8.69106781e-03, 5.03195683e-04],\n",
              "       [9.91764247e-01, 7.55699165e-03, 6.78732875e-04],\n",
              "       [9.80259717e-01, 1.95632447e-02, 1.77014561e-04],\n",
              "       [2.52064560e-02, 8.74933362e-01, 9.98602211e-02],\n",
              "       [9.93516207e-01, 6.10587141e-03, 3.77929828e-04],\n",
              "       [9.91489179e-03, 9.18462396e-01, 7.16227069e-02],\n",
              "       [9.88288522e-01, 1.15505662e-02, 1.60933268e-04],\n",
              "       [9.83394265e-01, 1.64271146e-02, 1.78586008e-04],\n",
              "       [5.65587019e-04, 7.06542015e-01, 2.92892396e-01],\n",
              "       [9.91822183e-01, 7.91652780e-03, 2.61284644e-04],\n",
              "       [1.17113963e-02, 6.52345121e-01, 3.35943490e-01],\n",
              "       [9.78134632e-01, 2.09061112e-02, 9.59329656e-04],\n",
              "       [9.76730645e-01, 2.24390496e-02, 8.30262899e-04],\n",
              "       [9.94406700e-01, 4.98570548e-03, 6.07683382e-04],\n",
              "       [9.90375340e-01, 9.52055492e-03, 1.04182742e-04],\n",
              "       [9.83335376e-01, 1.61601454e-02, 5.04488242e-04],\n",
              "       [2.98664663e-02, 9.46104467e-01, 2.40290146e-02],\n",
              "       [1.37367158e-03, 1.09734491e-01, 8.88891816e-01],\n",
              "       [9.90437806e-01, 8.81513208e-03, 7.47076701e-04],\n",
              "       [9.89837885e-01, 9.59969964e-03, 5.62371919e-04],\n",
              "       [9.55222361e-03, 8.01306069e-01, 1.89141721e-01],\n",
              "       [9.89003241e-01, 1.09317275e-02, 6.49694848e-05],\n",
              "       [9.89614844e-01, 1.00267753e-02, 3.58356425e-04],\n",
              "       [1.43073089e-02, 8.58685434e-01, 1.27007246e-01],\n",
              "       [9.88497138e-01, 1.12913754e-02, 2.11551334e-04],\n",
              "       [1.07089632e-04, 4.02020104e-02, 9.59690869e-01],\n",
              "       [3.63979824e-02, 9.53877091e-01, 9.72490199e-03],\n",
              "       [4.06950094e-05, 8.01975355e-02, 9.19761777e-01],\n",
              "       [9.88575399e-01, 1.11473771e-02, 2.77161336e-04],\n",
              "       [1.17856509e-03, 1.99364319e-01, 7.99457073e-01],\n",
              "       [2.24553602e-04, 1.79834440e-01, 8.19940984e-01],\n",
              "       [6.17304293e-04, 7.32367188e-02, 9.26145971e-01],\n",
              "       [9.85498905e-01, 1.43915992e-02, 1.09529261e-04],\n",
              "       [1.91102475e-02, 9.13632810e-01, 6.72569051e-02],\n",
              "       [1.04622661e-04, 1.14581950e-01, 8.85313451e-01],\n",
              "       [9.90896761e-01, 8.90511367e-03, 1.98111578e-04]], dtype=float32)"
            ]
          },
          "metadata": {
            "tags": []
          },
          "execution_count": 55
        }
      ]
    },
    {
      "cell_type": "markdown",
      "metadata": {
        "id": "UYDFfPrzIVQ4"
      },
      "source": [
        "## モデルの保存\n",
        "学習済みのモデルを保存します。  \n",
        "**save**: モデルを保存します。  \n",
        "**load_model**: 保存されたモデルを読み込みます。    \n",
        "https://keras.io/ja/getting-started/faq/#_4  "
      ]
    },
    {
      "cell_type": "code",
      "metadata": {
        "id": "9bfmNLLYIW7m",
        "colab": {
          "base_uri": "https://localhost:8080/"
        },
        "outputId": "bc6e7735-ca59-44aa-fa8a-c9da33f8d013"
      },
      "source": [
        "from keras.models import load_model\n",
        "\n",
        "model.save('model.h5')\n",
        "load_model('model.h5')"
      ],
      "execution_count": 56,
      "outputs": [
        {
          "output_type": "execute_result",
          "data": {
            "text/plain": [
              "<tensorflow.python.keras.engine.sequential.Sequential at 0x7fe2901ddc90>"
            ]
          },
          "metadata": {
            "tags": []
          },
          "execution_count": 56
        }
      ]
    },
    {
      "cell_type": "code",
      "metadata": {
        "id": "jKeO74H7ygD6"
      },
      "source": [
        ""
      ],
      "execution_count": null,
      "outputs": []
    }
  ]
}